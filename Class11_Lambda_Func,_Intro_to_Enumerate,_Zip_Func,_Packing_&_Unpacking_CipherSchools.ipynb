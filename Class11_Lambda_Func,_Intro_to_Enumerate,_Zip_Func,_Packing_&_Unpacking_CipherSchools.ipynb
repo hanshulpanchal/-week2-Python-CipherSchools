{
  "nbformat": 4,
  "nbformat_minor": 0,
  "metadata": {
    "colab": {
      "provenance": [],
      "authorship_tag": "ABX9TyPkzorAyo5lm7XGb691WrZ+",
      "include_colab_link": true
    },
    "kernelspec": {
      "name": "python3",
      "display_name": "Python 3"
    },
    "language_info": {
      "name": "python"
    }
  },
  "cells": [
    {
      "cell_type": "markdown",
      "metadata": {
        "id": "view-in-github",
        "colab_type": "text"
      },
      "source": [
        "<a href=\"https://colab.research.google.com/github/hanshulpanchal/-week2-Python-CipherSchools/blob/main/Class11_Lambda_Func%2C_Intro_to_Enumerate%2C_Zip_Func%2C_Packing_%26_Unpacking_CipherSchools.ipynb\" target=\"_parent\"><img src=\"https://colab.research.google.com/assets/colab-badge.svg\" alt=\"Open In Colab\"/></a>"
      ]
    },
    {
      "cell_type": "code",
      "execution_count": null,
      "metadata": {
        "id": "GGSeVz8p6Wnm"
      },
      "outputs": [],
      "source": [
        "def func():\n",
        "  return 1+4"
      ]
    },
    {
      "cell_type": "code",
      "source": [
        "a = func"
      ],
      "metadata": {
        "id": "rqDrtZL86dxz"
      },
      "execution_count": null,
      "outputs": []
    },
    {
      "cell_type": "code",
      "source": [
        "a()"
      ],
      "metadata": {
        "id": "f9i0jMH66gXr"
      },
      "execution_count": null,
      "outputs": []
    },
    {
      "cell_type": "code",
      "source": [
        "#lambda Expressions\n",
        "1+2"
      ],
      "metadata": {
        "id": "bN1arm4h6maq"
      },
      "execution_count": null,
      "outputs": []
    },
    {
      "cell_type": "code",
      "source": [
        "\"jatin\" * 2"
      ],
      "metadata": {
        "id": "g-CbZyG66pEM"
      },
      "execution_count": null,
      "outputs": []
    },
    {
      "cell_type": "code",
      "source": [
        "lambda a,b:a+b"
      ],
      "metadata": {
        "id": "HDdR9BfM6uzG"
      },
      "execution_count": null,
      "outputs": []
    },
    {
      "cell_type": "code",
      "source": [
        "print(\"Hello World\")"
      ],
      "metadata": {
        "id": "FBwzeMDZ6yu6"
      },
      "execution_count": null,
      "outputs": []
    },
    {
      "cell_type": "code",
      "source": [
        "show = print"
      ],
      "metadata": {
        "id": "iRHgLrDf659m"
      },
      "execution_count": null,
      "outputs": []
    },
    {
      "cell_type": "code",
      "source": [
        "show(\"something\")"
      ],
      "metadata": {
        "id": "Mk2GaS3Z67R9"
      },
      "execution_count": null,
      "outputs": []
    },
    {
      "cell_type": "code",
      "source": [
        "int a[]={1,2,3}"
      ],
      "metadata": {
        "id": "_y8l8La27CfV"
      },
      "execution_count": null,
      "outputs": []
    },
    {
      "cell_type": "code",
      "source": [
        "names=[\"jatin\",\"saransh\",\"shubham\",\"samarth\"]\n",
        "for name in enumerate(names):\n",
        "  print(name)\n",
        "     "
      ],
      "metadata": {
        "id": "5M_C1Dmu7GIp"
      },
      "execution_count": null,
      "outputs": []
    },
    {
      "cell_type": "code",
      "source": [
        "for a in enumerate(names):\n",
        "  print(a[0],a[1])"
      ],
      "metadata": {
        "id": "jeHax0yB7KIF"
      },
      "execution_count": null,
      "outputs": []
    },
    {
      "cell_type": "code",
      "source": [
        "for i, name in enumerate(names):\n",
        "  print(i,\"-\",name)"
      ],
      "metadata": {
        "id": "PAtJBxgb7LFA"
      },
      "execution_count": null,
      "outputs": []
    },
    {
      "cell_type": "code",
      "source": [
        "names=[\"jatin\",\"saransh\",\"shubham\",\"samarth\"]\n",
        "scores=[50,80,90,70]\n",
        "states=[\"delhi\",\"punjab\",\"punjab\",\"punjab\"],\n",
        "for name,score, state in zip(names,scores,states):\n",
        "  print(name,\"-\",score,state)"
      ],
      "metadata": {
        "id": "J-UTNYQO7Phn"
      },
      "execution_count": null,
      "outputs": []
    },
    {
      "cell_type": "code",
      "source": [
        "a=[1,2,3]\n",
        "b,c=a"
      ],
      "metadata": {
        "id": "VN_q0JYs7WfH"
      },
      "execution_count": null,
      "outputs": []
    },
    {
      "cell_type": "code",
      "source": [
        "print(b,c)"
      ],
      "metadata": {
        "id": "5bhIGLBt7Zqv"
      },
      "execution_count": null,
      "outputs": []
    },
    {
      "cell_type": "code",
      "source": [
        "a=1,2"
      ],
      "metadata": {
        "id": "cVHE0YUP7eeh"
      },
      "execution_count": null,
      "outputs": []
    },
    {
      "cell_type": "code",
      "source": [
        "print(type(a))"
      ],
      "metadata": {
        "id": "IKAS-jDX7h5r"
      },
      "execution_count": null,
      "outputs": []
    },
    {
      "cell_type": "code",
      "source": [
        "a=5\n",
        "b=9\n",
        "a,b=b,a\n",
        "print(a,b)"
      ],
      "metadata": {
        "id": "ri1jDhub7mFr"
      },
      "execution_count": null,
      "outputs": []
    },
    {
      "cell_type": "code",
      "source": [
        "a=5\n",
        "b=9\n",
        "temp=a\n",
        "a=b\n",
        "b=temp\n",
        "print(a,b)"
      ],
      "metadata": {
        "id": "tvtpqT0c7nyw"
      },
      "execution_count": null,
      "outputs": []
    },
    {
      "cell_type": "code",
      "source": [
        "a=5\n",
        "b=9\n",
        "a=a+b\n",
        "b=a-b\n",
        "a=a-b\n",
        "print(a,b)\n",
        "     "
      ],
      "metadata": {
        "id": "3sBSTvsv7r8W"
      },
      "execution_count": null,
      "outputs": []
    }
  ]
}