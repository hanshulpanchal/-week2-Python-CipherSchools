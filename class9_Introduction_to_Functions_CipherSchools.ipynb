{
  "nbformat": 4,
  "nbformat_minor": 0,
  "metadata": {
    "colab": {
      "provenance": [],
      "authorship_tag": "ABX9TyOKMMd5y28PsA1cRUin4G+p",
      "include_colab_link": true
    },
    "kernelspec": {
      "name": "python3",
      "display_name": "Python 3"
    },
    "language_info": {
      "name": "python"
    }
  },
  "cells": [
    {
      "cell_type": "markdown",
      "metadata": {
        "id": "view-in-github",
        "colab_type": "text"
      },
      "source": [
        "<a href=\"https://colab.research.google.com/github/hanshulpanchal/-week2-Python-CipherSchools/blob/main/class9_Introduction_to_Functions_CipherSchools.ipynb\" target=\"_parent\"><img src=\"https://colab.research.google.com/assets/colab-badge.svg\" alt=\"Open In Colab\"/></a>"
      ]
    },
    {
      "cell_type": "code",
      "execution_count": null,
      "metadata": {
        "id": "AI7eA17C28wx"
      },
      "outputs": [],
      "source": [
        "a=5\n",
        "b=7\n",
        "print(a+b)\n",
        "print(\"waiting...\")\n",
        "print(\"waiting...\")\n",
        "print(\"waiting...\")\n",
        "\n",
        "print(a-b)\n",
        "print(\"waiting...\")\n",
        "print(\"waiting...\")\n",
        "print(\"waiting...\")\n",
        "\n",
        "print(a*b)\n",
        "print(\"waiting...\")\n",
        "print(\"waiting...\")\n",
        "print(\"waiting...\")\n",
        "     "
      ]
    },
    {
      "cell_type": "code",
      "source": [
        "a=5\n",
        "b=7\n",
        "print(a+b)\n",
        "print(\"loading...\")\n",
        "print(\"loading...\")\n",
        "print(\"loading...\")\n",
        "\n",
        "print(a-b)\n",
        "print(\"loading...\")\n",
        "print(\"loading...\")\n",
        "print(\"loading...\")\n",
        "\n",
        "print(a*b)\n",
        "print(\"loading...\")\n",
        "print(\"loading...\")\n",
        "print(\"loading...\")\n"
      ],
      "metadata": {
        "id": "3aIPeqBQ3BWl"
      },
      "execution_count": null,
      "outputs": []
    },
    {
      "cell_type": "code",
      "source": [
        "x=6\n",
        "x=\"jatin\"\n",
        "x=1.5\n",
        "x=print"
      ],
      "metadata": {
        "id": "5EwQYlxe3JEj"
      },
      "execution_count": null,
      "outputs": []
    },
    {
      "cell_type": "code",
      "source": [
        "def shoow_loading():\n",
        "  for i in range(3):\n",
        "    print(\"loading....\")\n",
        "a=5\n",
        "b=7\n",
        "print(a+b)\n",
        "shoow_loading()\n",
        "\n",
        "print(a-b)\n",
        "shoow_loading()\n",
        "\n",
        "print(a*b)\n",
        "shoow_loading()\n",
        "     "
      ],
      "metadata": {
        "id": "LTY_Mff-3NUZ"
      },
      "execution_count": null,
      "outputs": []
    },
    {
      "cell_type": "code",
      "source": [
        "def shoow_loading():\n",
        "  for i in range(3):\n",
        "    print(i)\n",
        "    print(\"loading....\")\n",
        "shoow_loading()"
      ],
      "metadata": {
        "id": "E-O2MHlB3Tjy"
      },
      "execution_count": null,
      "outputs": []
    },
    {
      "cell_type": "code",
      "source": [
        "def show_loading():\n",
        "  for i in range(3):\n",
        "      print(\"loading\", \".\"*(i+1))\n",
        "show_loading()"
      ],
      "metadata": {
        "id": "28QlXU_y3mDB"
      },
      "execution_count": null,
      "outputs": []
    },
    {
      "cell_type": "code",
      "source": [
        "def sheldon_knock():\n",
        "  for _ in range(3):\n",
        "    print(\"knock knock knock penny\")\n",
        "sheldon_knock()"
      ],
      "metadata": {
        "id": "NP2Av9643s4c"
      },
      "execution_count": null,
      "outputs": []
    },
    {
      "cell_type": "code",
      "source": [
        "def sheldon_knock(name):\n",
        "  for i in range(3):\n",
        "     print(\"knock knock knock\", name)\n",
        "sheldon_knock(\"leopard\") "
      ],
      "metadata": {
        "id": "3cdg7iTx3z3x"
      },
      "execution_count": null,
      "outputs": []
    },
    {
      "cell_type": "code",
      "source": [
        "def sheldon_knock(name, times = 3):\n",
        "  for i in range(times):\n",
        "    print(\"knock knock knock\", name)\n",
        "sheldon_knock(\"penny\",100)   \n",
        "     "
      ],
      "metadata": {
        "id": "Sy3-ZJqh31_t"
      },
      "execution_count": null,
      "outputs": []
    },
    {
      "cell_type": "code",
      "source": [
        "def add(a, b):\n",
        "  return a+b\n",
        "a=add(1,2)\n",
        "print(a)\n"
      ],
      "metadata": {
        "id": "SdyRTwjf3-8z"
      },
      "execution_count": null,
      "outputs": []
    }
  ]
}